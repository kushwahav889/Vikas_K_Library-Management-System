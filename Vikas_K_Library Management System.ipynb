{
 "cells": [
  {
   "cell_type": "markdown",
   "id": "f39f8bf8",
   "metadata": {},
   "source": [
    "# Library Management System\n"
   ]
  },
  {
   "cell_type": "code",
   "execution_count": null,
   "id": "edad0da7",
   "metadata": {},
   "outputs": [],
   "source": [
    "lms ={\"MATHS\":10, \"SCIENCE\":12, \"SOCIAL SCIENCE\":15 ,\"ENGLISH\":50 ,\"HINDI\":25 , \"HOME SCIENCE\": 31 , \"COMPUTER\":15}\n",
    "\n",
    "while True :\n",
    "    Username=input(\"Username :\" )\n",
    "    Password=input(\"Password :\" )\n",
    "    print(\"\")\n",
    "    Credentials={\"Vikas\":\"Vikas@123\" ,\"Ravi\":\"Ravi@123\"}\n",
    "    if Username in Credentials.keys():\n",
    "        if Password == Credentials[Username]:\n",
    "                print(\"Welcome to the Library Management System\", \"|\",Username ,\"|\")\n",
    "                print(\"\")\n",
    "                while True:\n",
    "                    print(\"-\"*80)\n",
    "                    print(\"\"\"\n",
    "                    Press 1 to Total Availble Books\n",
    "                    Press 2 to Add Books\n",
    "                    Press 3 to Borrow Books\n",
    "                    Press 4 to Return Books\n",
    "                    Press 5 to Dispaly Borrowed books along with Username.\n",
    "                    \"\"\")\n",
    "                    print(\"-\"*80)\n",
    "    \n",
    "                    choice = int(input(\"Enter Your Choice :  \"))\n",
    "                    if choice == 1:\n",
    "                     for i,j in lms.items():\n",
    "                        print(\"-\"*80)\n",
    "                        print(i,\":-\",j)\n",
    "                    elif choice == 2:                                           #add Book\n",
    "                        lmsk = input(\"Enter the Book Name :\").upper()\n",
    "                        lmsv = int(input(\"Enter the quantity of Books :  \"))\n",
    "                        lms[lmsk] = lmsv\n",
    "                    elif choice == 3:                                               #Borrow Book\n",
    "                        for i,j in lms.items():\n",
    "                            print(\"-\"*80)\n",
    "                            print(i,\":-\",j)\n",
    "                        lmsk = input(\"Enter the name of Book :\").upper()\n",
    "                        if lmsk in lms.keys():\n",
    "                            lmsv = int(input(\"Enter quantity of Books:\"))\n",
    "                            if lmsv <= lms[lmsk]:\n",
    "                                lms[lmsk] -= lmsv\n",
    "                            else:\n",
    "                                print(\"We only have following available of\", lmsk, lms[lmsk])\n",
    "                        else:\n",
    "                            print(lmsk, \"Book is currently unavailable\")\n",
    "                    elif choice == 4:                                                   #Return Book\n",
    "                        lmsk = input(\"Which book you want to Return:\").upper()\n",
    "                        lmsv = int(input(\"Enter quantity of Books:\"))\n",
    "                        if lmsk in lms.keys():\n",
    "                            lms[lmsk] += lmsv\n",
    "                        else:\n",
    "                            lms[lmsk] = lmsv\n",
    "                        print(\"Wrong entry of Books\")\n",
    "                    elif choice == 5:\n",
    "                        print(\"Total Borrowed Books : \",lmsk,\" : \", lmsv, \" : \", Username)     # Not working\n",
    "                    else:\n",
    "                        print(\"Wrong Choice.\")\n",
    "                        break\n",
    "        else:\n",
    "            print(\"Invalid Password\")    \n",
    "    else:\n",
    "        print(\"You're not our LMS User.\") \n",
    "break\n",
    "\n",
    "    \n",
    "        \n",
    "        \n",
    "        \n",
    "\n",
    "        "
   ]
  },
  {
   "cell_type": "code",
   "execution_count": null,
   "id": "406d94d9",
   "metadata": {},
   "outputs": [],
   "source": []
  }
 ],
 "metadata": {
  "kernelspec": {
   "display_name": "Python 3 (ipykernel)",
   "language": "python",
   "name": "python3"
  },
  "language_info": {
   "codemirror_mode": {
    "name": "ipython",
    "version": 3
   },
   "file_extension": ".py",
   "mimetype": "text/x-python",
   "name": "python",
   "nbconvert_exporter": "python",
   "pygments_lexer": "ipython3",
   "version": "3.11.3"
  }
 },
 "nbformat": 4,
 "nbformat_minor": 5
}
